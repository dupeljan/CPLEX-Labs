{
 "cells": [
  {
   "cell_type": "code",
   "execution_count": 163,
   "metadata": {},
   "outputs": [],
   "source": [
    "INP = ['c125.9.txt','keller4.txt','p_hat300_1.txt','brock200_2.txt'][1]"
   ]
  },
  {
   "cell_type": "code",
   "execution_count": 164,
   "metadata": {},
   "outputs": [
    {
     "data": {
      "text/plain": [
       "'keller4.txt'"
      ]
     },
     "execution_count": 164,
     "metadata": {},
     "output_type": "execute_result"
    }
   ],
   "source": [
    "INP"
   ]
  },
  {
   "cell_type": "code",
   "execution_count": 165,
   "metadata": {},
   "outputs": [],
   "source": [
    "Edges = [ str_.split()[1:3] for str_ in open('input/'+INP).readlines() if str_[0] == 'e' ]"
   ]
  },
  {
   "cell_type": "code",
   "execution_count": 166,
   "metadata": {
    "scrolled": true
   },
   "outputs": [],
   "source": [
    "Nodes = list(set([ y for x in Edges for y in x]))"
   ]
  },
  {
   "cell_type": "code",
   "execution_count": 167,
   "metadata": {},
   "outputs": [
    {
     "data": {
      "text/plain": [
       "(171, 9435)"
      ]
     },
     "execution_count": 167,
     "metadata": {},
     "output_type": "execute_result"
    }
   ],
   "source": [
    "len(Nodes), len(Edges)"
   ]
  },
  {
   "cell_type": "markdown",
   "metadata": {},
   "source": [
    "Create the model"
   ]
  },
  {
   "cell_type": "code",
   "execution_count": 169,
   "metadata": {},
   "outputs": [],
   "source": [
    "import sys\n",
    "try:\n",
    "    import docplex.mp\n",
    "except:\n",
    "    if hasattr(sys, 'real_prefix'):\n",
    "        #we are in a virtual env.\n",
    "        !pip3 install docplex\n",
    "    else:\n",
    "        !pip3 install --user docplex"
   ]
  },
  {
   "cell_type": "code",
   "execution_count": 170,
   "metadata": {},
   "outputs": [],
   "source": [
    "from docplex.mp.model import Model\n",
    "from itertools import combinations as comb\n",
    "\n",
    "cp = Model(name='Max_clique')\n",
    "\n",
    "# binary varyables for nodes\n",
    "y = {i : cp.binary_var(name= 'y_{0}'.format(i)) for i in Nodes}\n",
    "\n",
    "\n",
    "\n",
    "# constrains for clique\n",
    "for i,j in comb(Nodes,2):\n",
    "    if [i,j] not in Edges and [j,i] not in Edges:\n",
    "        cp.add_constraint((y[i] + y[j]) <= 1)\n",
    "            "
   ]
  },
  {
   "cell_type": "code",
   "execution_count": 171,
   "metadata": {},
   "outputs": [
    {
     "name": "stdout",
     "output_type": "stream",
     "text": [
      "Model: Max_clique\n",
      " - number of variables: 171\n",
      "   - binary=171, integer=0, continuous=0\n",
      " - number of constraints: 5100\n",
      "   - linear=5100\n",
      " - parameters: defaults\n",
      " - objective: maximize\n",
      " - problem type is: MILP\n"
     ]
    }
   ],
   "source": [
    "cp.maximize(cp.sum(y))\n",
    "cp.print_information()"
   ]
  },
  {
   "cell_type": "code",
   "execution_count": 172,
   "metadata": {},
   "outputs": [
    {
     "name": "stdout",
     "output_type": "stream",
     "text": [
      "Version identifier: 12.10.0.0 | 2019-11-26 | 843d4de\n",
      "CPXPARAM_Read_DataCheck                          1\n",
      "CPXPARAM_RandomSeed                              201903125\n",
      "Found incumbent of value 0.000000 after 0.00 sec. (0.03 ticks)\n",
      "Tried aggregator 1 time.\n",
      "MIP Presolve eliminated 4257 rows and 0 columns.\n",
      "MIP Presolve modified 843 coefficients.\n",
      "Reduced MIP has 843 rows, 171 columns, and 6855 nonzeros.\n",
      "Reduced MIP has 171 binaries, 0 generals, 0 SOSs, and 0 indicators.\n",
      "Presolve time = 0.04 sec. (15.47 ticks)\n",
      "Probing time = 0.00 sec. (0.76 ticks)\n",
      "Tried aggregator 1 time.\n",
      "Detecting symmetries...\n",
      "Reduced MIP has 843 rows, 171 columns, and 6855 nonzeros.\n",
      "Reduced MIP has 171 binaries, 0 generals, 0 SOSs, and 0 indicators.\n",
      "Presolve time = 0.02 sec. (6.33 ticks)\n",
      "Probing time = 0.00 sec. (0.76 ticks)\n",
      "Clique table members: 843.\n",
      "MIP emphasis: balance optimality and feasibility.\n",
      "MIP search method: dynamic search.\n",
      "Parallel mode: deterministic, using up to 4 threads.\n",
      "Root relaxation solution time = 0.08 sec. (44.79 ticks)\n",
      "\n",
      "        Nodes                                         Cuts/\n",
      "   Node  Left     Objective  IInf  Best Integer    Best Bound    ItCnt     Gap\n",
      "\n",
      "*     0+    0                            0.0000      171.0000              --- \n",
      "*     0+    0                            8.0000      171.0000              --- \n",
      "      0     0       15.5813    91        8.0000       15.5813     1457   94.77%\n",
      "*     0+    0                           11.0000       15.5813            41.65%\n",
      "      0     0       15.0000    91       11.0000      Cuts: 73     1753   36.36%\n",
      "      0     0       15.0000    91       11.0000      Cuts: 18     1941   36.36%\n",
      "      0     0       15.0000    91       11.0000      Cuts: 19     2175   36.36%\n",
      "      0     0       14.9350    91       11.0000    Cliques: 4     2685   35.77%\n",
      "      0     0       14.9022    91       11.0000      Cuts: 36     2818   35.47%\n",
      "Detecting symmetries...\n",
      "      0     0       14.8845    91       11.0000      Cuts: 22     2944   35.31%\n",
      "      0     0       14.8774    91       11.0000      Cuts: 12     3027   35.25%\n",
      "      0     0       14.8720    91       11.0000      Cuts: 19     3092   35.20%\n",
      "      0     0       14.8670    91       11.0000       Cuts: 7     3160   35.15%\n",
      "      0     0       14.8629    91       11.0000      Cuts: 21     3216   35.12%\n",
      "      0     0       14.8597    91       11.0000       Cuts: 9     3271   35.09%\n",
      "      0     0       14.8588    91       11.0000       Cuts: 3     3314   35.08%\n",
      "Detecting symmetries...\n",
      "      0     2       14.8588   108       11.0000       14.8588     3314   35.08%\n",
      "Elapsed time = 2.61 sec. (734.42 ticks, tree = 0.02 MB, solutions = 3)\n",
      "    290   108       12.0250    36       11.0000       14.8155    19080   34.69%\n",
      "    625   319       13.0920    82       11.0000       14.7158    36550   33.78%\n",
      "   1023   616       12.5000    48       11.0000       14.0935    59596   28.12%\n",
      "   1513   816        cutoff             11.0000       13.7368    83596   24.88%\n",
      "   1995   920       12.2887    58       11.0000       13.4167   108099   21.97%\n",
      "   2461   792        cutoff             11.0000       13.0813   134239   18.92%\n",
      "\n",
      "Clique cuts applied:  90\n",
      "Zero-half cuts applied:  5\n",
      "\n",
      "Root node processing (before b&c):\n",
      "  Real time             =    2.57 sec. (733.68 ticks)\n",
      "Parallel b&c, 4 threads:\n",
      "  Real time             =    3.81 sec. (1642.09 ticks)\n",
      "  Sync time (average)   =    0.40 sec.\n",
      "  Wait time (average)   =    0.00 sec.\n",
      "                          ------------\n",
      "Total (root+branch&cut) =    6.38 sec. (2375.78 ticks)\n",
      "solution for: Max_clique\n",
      "objective: 11\n",
      "y_105 = 1\n",
      "y_47 = 1\n",
      "y_87 = 1\n",
      "y_123 = 1\n",
      "y_25 = 1\n",
      "y_35 = 1\n",
      "y_96 = 1\n",
      "y_15 = 1\n",
      "y_2 = 1\n",
      "y_129 = 1\n",
      "y_33 = 1\n"
     ]
    }
   ],
   "source": [
    "cps= cp.solve(log_output=True)\n",
    "assert cps\n",
    "cps.display()\n"
   ]
  }
 ],
 "metadata": {
  "kernelspec": {
   "display_name": "Python 3",
   "language": "python",
   "name": "python3"
  },
  "language_info": {
   "codemirror_mode": {
    "name": "ipython",
    "version": 3
   },
   "file_extension": ".py",
   "mimetype": "text/x-python",
   "name": "python",
   "nbconvert_exporter": "python",
   "pygments_lexer": "ipython3",
   "version": "3.7.9"
  }
 },
 "nbformat": 4,
 "nbformat_minor": 4
}
